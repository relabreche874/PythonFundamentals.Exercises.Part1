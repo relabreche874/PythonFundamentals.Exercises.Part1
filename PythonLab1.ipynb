{
 "cells": [
  {
   "cell_type": "code",
   "execution_count": 21,
   "id": "10405230",
   "metadata": {
    "tags": []
   },
   "outputs": [
    {
     "data": {
      "text/plain": [
       "9"
      ]
     },
     "execution_count": 2,
     "metadata": {},
     "output_type": "execute_result"
    }
   ],
   "source": [
    "# Exercise 3"
   ]
  },
  {
   "cell_type": "code",
   "execution_count": 4,
   "id": "9dd09531-2a37-4c22-9e81-2893eaee1b39",
   "metadata": {
    "tags": []
   },
   "outputs": [],
   "source": [
    "# Addition"
   ]
  },
  {
   "cell_type": "code",
   "execution_count": 3,
   "id": "c5eb5b0e-719b-4703-9c30-477cfb46e73c",
   "metadata": {
    "tags": []
   },
   "outputs": [
    {
     "data": {
      "text/plain": [
       "7.5"
      ]
     },
     "execution_count": 3,
     "metadata": {},
     "output_type": "execute_result"
    }
   ],
   "source": [
    "4.5 + 3"
   ]
  },
  {
   "cell_type": "code",
   "execution_count": null,
   "id": "f1d7fabb-8c17-4bf1-b2f8-af90e88bec8f",
   "metadata": {},
   "outputs": [],
   "source": [
    "# Subtraction"
   ]
  },
  {
   "cell_type": "code",
   "execution_count": 1,
   "id": "c9aa94b3-e12c-4d46-bbd8-381d650dd137",
   "metadata": {
    "tags": []
   },
   "outputs": [
    {
     "data": {
      "text/plain": [
       "2.0999999999999996"
      ]
     },
     "execution_count": 1,
     "metadata": {},
     "output_type": "execute_result"
    }
   ],
   "source": [
    "5.1 - 3"
   ]
  },
  {
   "cell_type": "code",
   "execution_count": 5,
   "id": "33fb8321-a45e-4f40-a088-c12477fa19ae",
   "metadata": {
    "tags": []
   },
   "outputs": [
    {
     "data": {
      "text/plain": [
       "24"
      ]
     },
     "execution_count": 5,
     "metadata": {},
     "output_type": "execute_result"
    }
   ],
   "source": [
    "44 - 20"
   ]
  },
  {
   "cell_type": "code",
   "execution_count": 6,
   "id": "42b88a48-ecc4-4d8e-a375-777f0014c061",
   "metadata": {
    "tags": []
   },
   "outputs": [],
   "source": [
    "# Multiplication"
   ]
  },
  {
   "cell_type": "code",
   "execution_count": 7,
   "id": "72fbe0dd-1212-4b5d-8081-4eb4c7f0f1d1",
   "metadata": {
    "tags": []
   },
   "outputs": [
    {
     "data": {
      "text/plain": [
       "6.8"
      ]
     },
     "execution_count": 7,
     "metadata": {},
     "output_type": "execute_result"
    }
   ],
   "source": [
    "1.7 * 4"
   ]
  },
  {
   "cell_type": "code",
   "execution_count": 8,
   "id": "b3d3b1b4-47fe-4717-8db2-71be51c5a26a",
   "metadata": {
    "tags": []
   },
   "outputs": [
    {
     "data": {
      "text/plain": [
       "528"
      ]
     },
     "execution_count": 8,
     "metadata": {},
     "output_type": "execute_result"
    }
   ],
   "source": [
    "44 * 12"
   ]
  },
  {
   "cell_type": "code",
   "execution_count": 9,
   "id": "1b5599d3-0671-42c1-967b-d83ab8969776",
   "metadata": {
    "tags": []
   },
   "outputs": [],
   "source": [
    "# Division"
   ]
  },
  {
   "cell_type": "code",
   "execution_count": 10,
   "id": "fb70f42e-22c4-480a-941c-c981907646e3",
   "metadata": {
    "tags": []
   },
   "outputs": [
    {
     "data": {
      "text/plain": [
       "3.0"
      ]
     },
     "execution_count": 10,
     "metadata": {},
     "output_type": "execute_result"
    }
   ],
   "source": [
    "6 / 2 "
   ]
  },
  {
   "cell_type": "code",
   "execution_count": 11,
   "id": "a5773c3c-cb9a-403d-be57-33e9e2f433f4",
   "metadata": {
    "tags": []
   },
   "outputs": [
    {
     "data": {
      "text/plain": [
       "1.3290322580645162"
      ]
     },
     "execution_count": 11,
     "metadata": {},
     "output_type": "execute_result"
    }
   ],
   "source": [
    "41.2 / 31"
   ]
  },
  {
   "cell_type": "code",
   "execution_count": 12,
   "id": "ae305f0d-78ed-4eba-aa1b-15e523d4eb63",
   "metadata": {
    "tags": []
   },
   "outputs": [],
   "source": [
    "# Floor Division"
   ]
  },
  {
   "cell_type": "code",
   "execution_count": 13,
   "id": "acb3eca0-fed2-4e93-b888-fed9cc073e37",
   "metadata": {
    "tags": []
   },
   "outputs": [
    {
     "data": {
      "text/plain": [
       "385"
      ]
     },
     "execution_count": 13,
     "metadata": {},
     "output_type": "execute_result"
    }
   ],
   "source": [
    "771 // 2"
   ]
  },
  {
   "cell_type": "code",
   "execution_count": 14,
   "id": "2de74bb8-13cc-4c97-b5c4-9ce9312fac2a",
   "metadata": {
    "tags": []
   },
   "outputs": [
    {
     "data": {
      "text/plain": [
       "3.0"
      ]
     },
     "execution_count": 14,
     "metadata": {},
     "output_type": "execute_result"
    }
   ],
   "source": [
    "6.1 // 2"
   ]
  },
  {
   "cell_type": "code",
   "execution_count": 15,
   "id": "07af59c0-da0c-4ed5-b51a-a4cbf604f8a1",
   "metadata": {
    "tags": []
   },
   "outputs": [],
   "source": [
    "# Modulo"
   ]
  },
  {
   "cell_type": "code",
   "execution_count": 16,
   "id": "ac08d7c5-6a8d-4d4a-8c95-eff97a0395ee",
   "metadata": {
    "tags": []
   },
   "outputs": [
    {
     "data": {
      "text/plain": [
       "1"
      ]
     },
     "execution_count": 16,
     "metadata": {},
     "output_type": "execute_result"
    }
   ],
   "source": [
    "7 % 2"
   ]
  },
  {
   "cell_type": "code",
   "execution_count": 17,
   "id": "8ce10a7d-6305-4119-a7e9-2f1d8c41ef5d",
   "metadata": {
    "tags": []
   },
   "outputs": [
    {
     "data": {
      "text/plain": [
       "1"
      ]
     },
     "execution_count": 17,
     "metadata": {},
     "output_type": "execute_result"
    }
   ],
   "source": [
    "34 % 3"
   ]
  },
  {
   "cell_type": "code",
   "execution_count": 18,
   "id": "c162a0a4-615e-4b24-b782-07592edabc32",
   "metadata": {
    "tags": []
   },
   "outputs": [],
   "source": [
    "# Exponentation"
   ]
  },
  {
   "cell_type": "code",
   "execution_count": 19,
   "id": "4018d920-aa9b-4482-8d52-6e5939997c2e",
   "metadata": {
    "tags": []
   },
   "outputs": [
    {
     "data": {
      "text/plain": [
       "27"
      ]
     },
     "execution_count": 19,
     "metadata": {},
     "output_type": "execute_result"
    }
   ],
   "source": [
    "3 ** 3"
   ]
  },
  {
   "cell_type": "code",
   "execution_count": 20,
   "id": "cfe9b8ac-a86c-4d79-bd8b-1ac69bb6506c",
   "metadata": {
    "tags": []
   },
   "outputs": [
    {
     "data": {
      "text/plain": [
       "2.1359870359209176e+32"
      ]
     },
     "execution_count": 20,
     "metadata": {},
     "output_type": "execute_result"
    }
   ],
   "source": [
    "3.2 ** 64"
   ]
  },
  {
   "cell_type": "code",
   "execution_count": null,
   "id": "948af2bb-5d77-461c-87fe-46ac9f180f20",
   "metadata": {},
   "outputs": [],
   "source": []
  }
 ],
 "metadata": {
  "kernelspec": {
   "display_name": "Python 3 (ipykernel)",
   "language": "python",
   "name": "python3"
  },
  "language_info": {
   "codemirror_mode": {
    "name": "ipython",
    "version": 3
   },
   "file_extension": ".py",
   "mimetype": "text/x-python",
   "name": "python",
   "nbconvert_exporter": "python",
   "pygments_lexer": "ipython3",
   "version": "3.8.16"
  }
 },
 "nbformat": 4,
 "nbformat_minor": 5
}
